{
 "cells": [
  {
   "cell_type": "markdown",
   "id": "3fc7bf7c",
   "metadata": {
    "papermill": {
     "duration": 0.034938,
     "end_time": "2021-10-22T11:23:04.960202",
     "exception": false,
     "start_time": "2021-10-22T11:23:04.925264",
     "status": "completed"
    },
    "tags": []
   },
   "source": [
    "# Hearth Attack Prediction"
   ]
  },
  {
   "cell_type": "markdown",
   "id": "1f5afc17",
   "metadata": {
    "papermill": {
     "duration": 0.032762,
     "end_time": "2021-10-22T11:23:05.025865",
     "exception": false,
     "start_time": "2021-10-22T11:23:04.993103",
     "status": "completed"
    },
    "tags": []
   },
   "source": [
    "Goal : Build model which classify patients to either 'High Risk of Hearth Attack' category or 'Low Risk of Hearth Attack' Category, also explore which patient parameters strongly affects patients categorization."
   ]
  },
  {
   "cell_type": "code",
   "execution_count": 1,
   "id": "5b30ca57",
   "metadata": {
    "execution": {
     "iopub.execute_input": "2021-10-22T11:23:05.102988Z",
     "iopub.status.busy": "2021-10-22T11:23:05.102035Z",
     "iopub.status.idle": "2021-10-22T11:23:06.027982Z",
     "shell.execute_reply": "2021-10-22T11:23:06.027217Z",
     "shell.execute_reply.started": "2021-10-18T16:45:31.572002Z"
    },
    "papermill": {
     "duration": 0.967379,
     "end_time": "2021-10-22T11:23:06.028196",
     "exception": false,
     "start_time": "2021-10-22T11:23:05.060817",
     "status": "completed"
    },
    "tags": []
   },
   "outputs": [],
   "source": [
    "# Importing libraries\n",
    "import pandas as pd\n",
    "import numpy as np\n",
    "import matplotlib.pyplot as plt\n",
    "import seaborn as sns"
   ]
  },
  {
   "cell_type": "code",
   "execution_count": 2,
   "id": "691d4094",
   "metadata": {
    "execution": {
     "iopub.execute_input": "2021-10-22T11:23:06.098793Z",
     "iopub.status.busy": "2021-10-22T11:23:06.097826Z",
     "iopub.status.idle": "2021-10-22T11:23:06.138906Z",
     "shell.execute_reply": "2021-10-22T11:23:06.139462Z",
     "shell.execute_reply.started": "2021-10-18T16:45:32.484732Z"
    },
    "papermill": {
     "duration": 0.078515,
     "end_time": "2021-10-22T11:23:06.139632",
     "exception": false,
     "start_time": "2021-10-22T11:23:06.061117",
     "status": "completed"
    },
    "tags": []
   },
   "outputs": [
    {
     "data": {
      "text/html": [
       "<div>\n",
       "<style scoped>\n",
       "    .dataframe tbody tr th:only-of-type {\n",
       "        vertical-align: middle;\n",
       "    }\n",
       "\n",
       "    .dataframe tbody tr th {\n",
       "        vertical-align: top;\n",
       "    }\n",
       "\n",
       "    .dataframe thead th {\n",
       "        text-align: right;\n",
       "    }\n",
       "</style>\n",
       "<table border=\"1\" class=\"dataframe\">\n",
       "  <thead>\n",
       "    <tr style=\"text-align: right;\">\n",
       "      <th></th>\n",
       "      <th>age</th>\n",
       "      <th>sex</th>\n",
       "      <th>cp</th>\n",
       "      <th>trtbps</th>\n",
       "      <th>chol</th>\n",
       "      <th>fbs</th>\n",
       "      <th>restecg</th>\n",
       "      <th>thalachh</th>\n",
       "      <th>exng</th>\n",
       "      <th>oldpeak</th>\n",
       "      <th>slp</th>\n",
       "      <th>caa</th>\n",
       "      <th>thall</th>\n",
       "      <th>output</th>\n",
       "    </tr>\n",
       "  </thead>\n",
       "  <tbody>\n",
       "    <tr>\n",
       "      <th>0</th>\n",
       "      <td>63</td>\n",
       "      <td>1</td>\n",
       "      <td>3</td>\n",
       "      <td>145</td>\n",
       "      <td>233</td>\n",
       "      <td>1</td>\n",
       "      <td>0</td>\n",
       "      <td>150</td>\n",
       "      <td>0</td>\n",
       "      <td>2.3</td>\n",
       "      <td>0</td>\n",
       "      <td>0</td>\n",
       "      <td>1</td>\n",
       "      <td>1</td>\n",
       "    </tr>\n",
       "    <tr>\n",
       "      <th>1</th>\n",
       "      <td>37</td>\n",
       "      <td>1</td>\n",
       "      <td>2</td>\n",
       "      <td>130</td>\n",
       "      <td>250</td>\n",
       "      <td>0</td>\n",
       "      <td>1</td>\n",
       "      <td>187</td>\n",
       "      <td>0</td>\n",
       "      <td>3.5</td>\n",
       "      <td>0</td>\n",
       "      <td>0</td>\n",
       "      <td>2</td>\n",
       "      <td>1</td>\n",
       "    </tr>\n",
       "    <tr>\n",
       "      <th>2</th>\n",
       "      <td>41</td>\n",
       "      <td>0</td>\n",
       "      <td>1</td>\n",
       "      <td>130</td>\n",
       "      <td>204</td>\n",
       "      <td>0</td>\n",
       "      <td>0</td>\n",
       "      <td>172</td>\n",
       "      <td>0</td>\n",
       "      <td>1.4</td>\n",
       "      <td>2</td>\n",
       "      <td>0</td>\n",
       "      <td>2</td>\n",
       "      <td>1</td>\n",
       "    </tr>\n",
       "    <tr>\n",
       "      <th>3</th>\n",
       "      <td>56</td>\n",
       "      <td>1</td>\n",
       "      <td>1</td>\n",
       "      <td>120</td>\n",
       "      <td>236</td>\n",
       "      <td>0</td>\n",
       "      <td>1</td>\n",
       "      <td>178</td>\n",
       "      <td>0</td>\n",
       "      <td>0.8</td>\n",
       "      <td>2</td>\n",
       "      <td>0</td>\n",
       "      <td>2</td>\n",
       "      <td>1</td>\n",
       "    </tr>\n",
       "    <tr>\n",
       "      <th>4</th>\n",
       "      <td>57</td>\n",
       "      <td>0</td>\n",
       "      <td>0</td>\n",
       "      <td>120</td>\n",
       "      <td>354</td>\n",
       "      <td>0</td>\n",
       "      <td>1</td>\n",
       "      <td>163</td>\n",
       "      <td>1</td>\n",
       "      <td>0.6</td>\n",
       "      <td>2</td>\n",
       "      <td>0</td>\n",
       "      <td>2</td>\n",
       "      <td>1</td>\n",
       "    </tr>\n",
       "  </tbody>\n",
       "</table>\n",
       "</div>"
      ],
      "text/plain": [
       "   age  sex  cp  trtbps  chol  fbs  restecg  thalachh  exng  oldpeak  slp  \\\n",
       "0   63    1   3     145   233    1        0       150     0      2.3    0   \n",
       "1   37    1   2     130   250    0        1       187     0      3.5    0   \n",
       "2   41    0   1     130   204    0        0       172     0      1.4    2   \n",
       "3   56    1   1     120   236    0        1       178     0      0.8    2   \n",
       "4   57    0   0     120   354    0        1       163     1      0.6    2   \n",
       "\n",
       "   caa  thall  output  \n",
       "0    0      1       1  \n",
       "1    0      2       1  \n",
       "2    0      2       1  \n",
       "3    0      2       1  \n",
       "4    0      2       1  "
      ]
     },
     "execution_count": 2,
     "metadata": {},
     "output_type": "execute_result"
    }
   ],
   "source": [
    "# Loading the data\n",
    "data = pd.read_csv('../input/heart-attack-analysis-prediction-dataset/heart.csv')\n",
    "data.head(5)"
   ]
  },
  {
   "cell_type": "markdown",
   "id": "b62df648",
   "metadata": {
    "papermill": {
     "duration": 0.032715,
     "end_time": "2021-10-22T11:23:06.205682",
     "exception": false,
     "start_time": "2021-10-22T11:23:06.172967",
     "status": "completed"
    },
    "tags": []
   },
   "source": []
  },
  {
   "cell_type": "markdown",
   "id": "f178bdc8",
   "metadata": {
    "papermill": {
     "duration": 0.033175,
     "end_time": "2021-10-22T11:23:06.271838",
     "exception": false,
     "start_time": "2021-10-22T11:23:06.238663",
     "status": "completed"
    },
    "tags": []
   },
   "source": [
    "# About data:"
   ]
  },
  {
   "cell_type": "markdown",
   "id": "ce69194b",
   "metadata": {
    "papermill": {
     "duration": 0.032812,
     "end_time": "2021-10-22T11:23:06.338006",
     "exception": false,
     "start_time": "2021-10-22T11:23:06.305194",
     "status": "completed"
    },
    "tags": []
   },
   "source": [
    "About data set\n",
    "The \"output\" field refers to the presence of heart disease in the patient. <br>\n",
    "It is integer valued 0 = no/less chance of heart attack and 1 = more chance of heart attack<br>\n",
    "\n",
    "Attribute Information<br>\n",
    "1) age n<br>\n",
    "2) sex:<br>\n",
    "&emsp;0: female<br>\n",
    "    &emsp;1: male<br>\n",
    "3) cp - chest pain type (4 values):<br>\n",
    "    &emsp;1: typical angina<br>\n",
    "    &emsp;2: atypical angina<br>\n",
    "    &emsp;3: non-anginal pain<br>\n",
    "    &emsp;4: asymptomatic<br>\n",
    "4) trtbps - resting blood pressure (in mm Hg)<br>\n",
    "5) chol -  serum cholestoral in mg/dl<br>\n",
    "6) fbs - fasting blood sugar<br>\n",
    "    &emsp;0 : >= 120 mg/dl<br>\n",
    "    &emsp;1 : <= 120 mg/dl<br>\n",
    "7) restecg - resting electrocardiographic results (values 0,1,2)<br>\n",
    "    &emsp;0: normal<br>\n",
    "    &emsp;1: having ST-T wave abnormality<br>\n",
    "    &emsp;2: showing probable or definite left ventricular hypertrophy<br>\n",
    "8) thalachh - maximum heart rate achieved<br>\n",
    "9) exng - exercise induced angina:<br>\n",
    "    &emsp;0: yes<br>\n",
    "    &emsp;1: no<br>\n",
    "10) oldpeak - ST depression induced by exercise relative to rest<br>\n",
    "11) slp - the slope of the peak exercise ST segment<br>\n",
    "    &emsp;1: upsloping<br>\n",
    "    &emsp;2: flat<br>\n",
    "    &emsp;3: downsloping<br>\n",
    "12) caa - number of major vessels (0-3) colored by flourosopy<br>\n",
    "13) thall - thalassemia- <br>\n",
    "    &emsp;0 : normal<br>\n",
    "    &emsp;1 : fixed defect <br>\n",
    "    &emsp;2 : reversable defect<br>\n",
    "14) output: <br>\n",
    "    &emsp;0 : less chance of heart attack <br>\n",
    "    &emsp;1 : more chance of heart attack<br"
   ]
  },
  {
   "cell_type": "markdown",
   "id": "8dfa85ef",
   "metadata": {
    "papermill": {
     "duration": 0.032807,
     "end_time": "2021-10-22T11:23:06.404306",
     "exception": false,
     "start_time": "2021-10-22T11:23:06.371499",
     "status": "completed"
    },
    "tags": []
   },
   "source": [
    "# EDA"
   ]
  },
  {
   "cell_type": "code",
   "execution_count": 3,
   "id": "dd9e0f89",
   "metadata": {
    "execution": {
     "iopub.execute_input": "2021-10-22T11:23:06.474506Z",
     "iopub.status.busy": "2021-10-22T11:23:06.473780Z",
     "iopub.status.idle": "2021-10-22T11:23:06.496680Z",
     "shell.execute_reply": "2021-10-22T11:23:06.495593Z",
     "shell.execute_reply.started": "2021-10-18T16:45:32.530964Z"
    },
    "papermill": {
     "duration": 0.05955,
     "end_time": "2021-10-22T11:23:06.496883",
     "exception": false,
     "start_time": "2021-10-22T11:23:06.437333",
     "status": "completed"
    },
    "tags": []
   },
   "outputs": [
    {
     "name": "stdout",
     "output_type": "stream",
     "text": [
      "<class 'pandas.core.frame.DataFrame'>\n",
      "RangeIndex: 303 entries, 0 to 302\n",
      "Data columns (total 14 columns):\n",
      " #   Column    Non-Null Count  Dtype  \n",
      "---  ------    --------------  -----  \n",
      " 0   age       303 non-null    int64  \n",
      " 1   sex       303 non-null    int64  \n",
      " 2   cp        303 non-null    int64  \n",
      " 3   trtbps    303 non-null    int64  \n",
      " 4   chol      303 non-null    int64  \n",
      " 5   fbs       303 non-null    int64  \n",
      " 6   restecg   303 non-null    int64  \n",
      " 7   thalachh  303 non-null    int64  \n",
      " 8   exng      303 non-null    int64  \n",
      " 9   oldpeak   303 non-null    float64\n",
      " 10  slp       303 non-null    int64  \n",
      " 11  caa       303 non-null    int64  \n",
      " 12  thall     303 non-null    int64  \n",
      " 13  output    303 non-null    int64  \n",
      "dtypes: float64(1), int64(13)\n",
      "memory usage: 33.3 KB\n"
     ]
    }
   ],
   "source": [
    "data.info()"
   ]
  },
  {
   "cell_type": "code",
   "execution_count": 4,
   "id": "c3da4c5d",
   "metadata": {
    "execution": {
     "iopub.execute_input": "2021-10-22T11:23:06.568554Z",
     "iopub.status.busy": "2021-10-22T11:23:06.567878Z",
     "iopub.status.idle": "2021-10-22T11:23:10.472808Z",
     "shell.execute_reply": "2021-10-22T11:23:10.473322Z",
     "shell.execute_reply.started": "2021-10-18T16:45:32.556865Z"
    },
    "papermill": {
     "duration": 3.942663,
     "end_time": "2021-10-22T11:23:10.473508",
     "exception": false,
     "start_time": "2021-10-22T11:23:06.530845",
     "status": "completed"
    },
    "scrolled": true,
    "tags": []
   },
   "outputs": [
    {
     "data": {
      "text/plain": [
       "array([[<AxesSubplot:title={'center':'age'}>,\n",
       "        <AxesSubplot:title={'center':'sex'}>,\n",
       "        <AxesSubplot:title={'center':'cp'}>,\n",
       "        <AxesSubplot:title={'center':'trtbps'}>],\n",
       "       [<AxesSubplot:title={'center':'chol'}>,\n",
       "        <AxesSubplot:title={'center':'fbs'}>,\n",
       "        <AxesSubplot:title={'center':'restecg'}>,\n",
       "        <AxesSubplot:title={'center':'thalachh'}>],\n",
       "       [<AxesSubplot:title={'center':'exng'}>,\n",
       "        <AxesSubplot:title={'center':'oldpeak'}>,\n",
       "        <AxesSubplot:title={'center':'slp'}>,\n",
       "        <AxesSubplot:title={'center':'caa'}>],\n",
       "       [<AxesSubplot:title={'center':'thall'}>,\n",
       "        <AxesSubplot:title={'center':'output'}>, <AxesSubplot:>,\n",
       "        <AxesSubplot:>]], dtype=object)"
      ]
     },
     "execution_count": 4,
     "metadata": {},
     "output_type": "execute_result"
    },
    {
     "data": {
      "image/png": "[encoded data removed]",
      "text/plain": [
       "<Figure size 1440x1080 with 16 Axes>"
      ]
     },
     "metadata": {
      "needs_background": "light"
     },
     "output_type": "display_data"
    }
   ],
   "source": [
    "data.hist(bins=50, figsize=(20,15))"
   ]
  },
  {
   "cell_type": "code",
   "execution_count": 5,
   "id": "49b0e15b",
   "metadata": {
    "execution": {
     "iopub.execute_input": "2021-10-22T11:23:10.551679Z",
     "iopub.status.busy": "2021-10-22T11:23:10.549801Z",
     "iopub.status.idle": "2021-10-22T11:23:10.593877Z",
     "shell.execute_reply": "2021-10-22T11:23:10.594475Z",
     "shell.execute_reply.started": "2021-10-18T16:45:35.956677Z"
    },
    "papermill": {
     "duration": 0.085804,
     "end_time": "2021-10-22T11:23:10.594647",
     "exception": false,
     "start_time": "2021-10-22T11:23:10.508843",
     "status": "completed"
    },
    "tags": []
   },
   "outputs": [
    {
     "data": {
      "text/html": [
       "<div>\n",
       "<style scoped>\n",
       "    .dataframe tbody tr th:only-of-type {\n",
       "        vertical-align: middle;\n",
       "    }\n",
       "\n",
       "    .dataframe tbody tr th {\n",
       "        vertical-align: top;\n",
       "    }\n",
       "\n",
       "    .dataframe thead th {\n",
       "        text-align: right;\n",
       "    }\n",
       "</style>\n",
       "<table border=\"1\" class=\"dataframe\">\n",
       "  <thead>\n",
       "    <tr style=\"text-align: right;\">\n",
       "      <th></th>\n",
       "      <th>age</th>\n",
       "      <th>sex</th>\n",
       "      <th>cp</th>\n",
       "      <th>trtbps</th>\n",
       "      <th>chol</th>\n",
       "      <th>fbs</th>\n",
       "      <th>restecg</th>\n",
       "      <th>thalachh</th>\n",
       "      <th>exng</th>\n",
       "      <th>oldpeak</th>\n",
       "      <th>slp</th>\n",
       "      <th>caa</th>\n",
       "      <th>thall</th>\n",
       "      <th>output</th>\n",
       "    </tr>\n",
       "  </thead>\n",
       "  <tbody>\n",
       "    <tr>\n",
       "      <th>count</th>\n",
       "      <td>303.000000</td>\n",
       "      <td>303.000000</td>\n",
       "      <td>303.000000</td>\n",
       "      <td>303.000000</td>\n",
       "      <td>303.000000</td>\n",
       "      <td>303.000000</td>\n",
       "      <td>303.000000</td>\n",
       "      <td>303.000000</td>\n",
       "      <td>303.000000</td>\n",
       "      <td>303.000000</td>\n",
       "      <td>303.000000</td>\n",
       "      <td>303.000000</td>\n",
       "      <td>303.000000</td>\n",
       "      <td>303.000000</td>\n",
       "    </tr>\n",
       "    <tr>\n",
       "      <th>mean</th>\n",
       "      <td>54.366337</td>\n",
       "      <td>0.683168</td>\n",
       "      <td>0.966997</td>\n",
       "      <td>131.623762</td>\n",
       "      <td>246.264026</td>\n",
       "      <td>0.148515</td>\n",
       "      <td>0.528053</td>\n",
       "      <td>149.646865</td>\n",
       "      <td>0.326733</td>\n",
       "      <td>1.039604</td>\n",
       "      <td>1.399340</td>\n",
       "      <td>0.729373</td>\n",
       "      <td>2.313531</td>\n",
       "      <td>0.544554</td>\n",
       "    </tr>\n",
       "    <tr>\n",
       "      <th>std</th>\n",
       "      <td>9.082101</td>\n",
       "      <td>0.466011</td>\n",
       "      <td>1.032052</td>\n",
       "      <td>17.538143</td>\n",
       "      <td>51.830751</td>\n",
       "      <td>0.356198</td>\n",
       "      <td>0.525860</td>\n",
       "      <td>22.905161</td>\n",
       "      <td>0.469794</td>\n",
       "      <td>1.161075</td>\n",
       "      <td>0.616226</td>\n",
       "      <td>1.022606</td>\n",
       "      <td>0.612277</td>\n",
       "      <td>0.498835</td>\n",
       "    </tr>\n",
       "    <tr>\n",
       "      <th>min</th>\n",
       "      <td>29.000000</td>\n",
       "      <td>0.000000</td>\n",
       "      <td>0.000000</td>\n",
       "      <td>94.000000</td>\n",
       "      <td>126.000000</td>\n",
       "      <td>0.000000</td>\n",
       "      <td>0.000000</td>\n",
       "      <td>71.000000</td>\n",
       "      <td>0.000000</td>\n",
       "      <td>0.000000</td>\n",
       "      <td>0.000000</td>\n",
       "      <td>0.000000</td>\n",
       "      <td>0.000000</td>\n",
       "      <td>0.000000</td>\n",
       "    </tr>\n",
       "    <tr>\n",
       "      <th>25%</th>\n",
       "      <td>47.500000</td>\n",
       "      <td>0.000000</td>\n",
       "      <td>0.000000</td>\n",
       "      <td>120.000000</td>\n",
       "      <td>211.000000</td>\n",
       "      <td>0.000000</td>\n",
       "      <td>0.000000</td>\n",
       "      <td>133.500000</td>\n",
       "      <td>0.000000</td>\n",
       "      <td>0.000000</td>\n",
       "      <td>1.000000</td>\n",
       "      <td>0.000000</td>\n",
       "      <td>2.000000</td>\n",
       "      <td>0.000000</td>\n",
       "    </tr>\n",
       "    <tr>\n",
       "      <th>50%</th>\n",
       "      <td>55.000000</td>\n",
       "      <td>1.000000</td>\n",
       "      <td>1.000000</td>\n",
       "      <td>130.000000</td>\n",
       "      <td>240.000000</td>\n",
       "      <td>0.000000</td>\n",
       "      <td>1.000000</td>\n",
       "      <td>153.000000</td>\n",
       "      <td>0.000000</td>\n",
       "      <td>0.800000</td>\n",
       "      <td>1.000000</td>\n",
       "      <td>0.000000</td>\n",
       "      <td>2.000000</td>\n",
       "      <td>1.000000</td>\n",
       "    </tr>\n",
       "    <tr>\n",
       "      <th>75%</th>\n",
       "      <td>61.000000</td>\n",
       "      <td>1.000000</td>\n",
       "      <td>2.000000</td>\n",
       "      <td>140.000000</td>\n",
       "      <td>274.500000</td>\n",
       "      <td>0.000000</td>\n",
       "      <td>1.000000</td>\n",
       "      <td>166.000000</td>\n",
       "      <td>1.000000</td>\n",
       "      <td>1.600000</td>\n",
       "      <td>2.000000</td>\n",
       "      <td>1.000000</td>\n",
       "      <td>3.000000</td>\n",
       "      <td>1.000000</td>\n",
       "    </tr>\n",
       "    <tr>\n",
       "      <th>max</th>\n",
       "      <td>77.000000</td>\n",
       "      <td>1.000000</td>\n",
       "      <td>3.000000</td>\n",
       "      <td>200.000000</td>\n",
       "      <td>564.000000</td>\n",
       "      <td>1.000000</td>\n",
       "      <td>2.000000</td>\n",
       "      <td>202.000000</td>\n",
       "      <td>1.000000</td>\n",
       "      <td>6.200000</td>\n",
       "      <td>2.000000</td>\n",
       "      <td>4.000000</td>\n",
       "      <td>3.000000</td>\n",
       "      <td>1.000000</td>\n",
       "    </tr>\n",
       "  </tbody>\n",
       "</table>\n",
       "</div>"
      ],
      "text/plain": [
       "              age         sex          cp      trtbps        chol         fbs  \\\n",
       "count  303.000000  303.000000  303.000000  303.000000  303.000000  303.000000   \n",
       "mean    54.366337    0.683168    0.966997  131.623762  246.264026    0.148515   \n",
       "std      9.082101    0.466011    1.032052   17.538143   51.830751    0.356198   \n",
       "min     29.000000    0.000000    0.000000   94.000000  126.000000    0.000000   \n",
       "25%     47.500000    0.000000    0.000000  120.000000  211.000000    0.000000   \n",
       "50%     55.000000    1.000000    1.000000  130.000000  240.000000    0.000000   \n",
       "75%     61.000000    1.000000    2.000000  140.000000  274.500000    0.000000   \n",
       "max     77.000000    1.000000    3.000000  200.000000  564.000000    1.000000   \n",
       "\n",
       "          restecg    thalachh        exng     oldpeak         slp         caa  \\\n",
       "count  303.000000  303.000000  303.000000  303.000000  303.000000  303.000000   \n",
       "mean     0.528053  149.646865    0.326733    1.039604    1.399340    0.729373   \n",
       "std      0.525860   22.905161    0.469794    1.161075    0.616226    1.022606   \n",
       "min      0.000000   71.000000    0.000000    0.000000    0.000000    0.000000   \n",
       "25%      0.000000  133.500000    0.000000    0.000000    1.000000    0.000000   \n",
       "50%      1.000000  153.000000    0.000000    0.800000    1.000000    0.000000   \n",
       "75%      1.000000  166.000000    1.000000    1.600000    2.000000    1.000000   \n",
       "max      2.000000  202.000000    1.000000    6.200000    2.000000    4.000000   \n",
       "\n",
       "            thall      output  \n",
       "count  303.000000  303.000000  \n",
       "mean     2.313531    0.544554  \n",
       "std      0.612277    0.498835  \n",
       "min      0.000000    0.000000  \n",
       "25%      2.000000    0.000000  \n",
       "50%      2.000000    1.000000  \n",
       "75%      3.000000    1.000000  \n",
       "max      3.000000    1.000000  "
      ]
     },
     "execution_count": 5,
     "metadata": {},
     "output_type": "execute_result"
    }
   ],
   "source": [
    "data.describe()"
   ]
  },
  {
   "cell_type": "code",
   "execution_count": 6,
   "id": "3cfea7e5",
   "metadata": {
    "execution": {
     "iopub.execute_input": "2021-10-22T11:23:10.669760Z",
     "iopub.status.busy": "2021-10-22T11:23:10.669044Z",
     "iopub.status.idle": "2021-10-22T11:23:12.207386Z",
     "shell.execute_reply": "2021-10-22T11:23:12.207937Z",
     "shell.execute_reply.started": "2021-10-18T16:45:36.009802Z"
    },
    "papermill": {
     "duration": 1.57755,
     "end_time": "2021-10-22T11:23:12.208119",
     "exception": false,
     "start_time": "2021-10-22T11:23:10.630569",
     "status": "completed"
    },
    "tags": []
   },
   "outputs": [
    {
     "data": {
      "text/plain": [
       "<AxesSubplot:>"
      ]
     },
     "execution_count": 6,
     "metadata": {},
     "output_type": "execute_result"
    },
    {
     "data": {
      "image/png": "[encoded data removed]",
      "text/plain": [
       "<Figure size 864x576 with 2 Axes>"
      ]
     },
     "metadata": {
      "needs_background": "light"
     },
     "output_type": "display_data"
    }
   ],
   "source": [
    "# Visualisation of corellations between columns\n",
    "corr_matrix = data.corr()\n",
    "fig, ax = plt.subplots(figsize=(12, 8))\n",
    "sns.heatmap(data.corr(), cmap=sns.diverging_palette(240, 10, n=9), annot = True, ax = ax, center = 0)"
   ]
  },
  {
   "cell_type": "code",
   "execution_count": 7,
   "id": "e744fca5",
   "metadata": {
    "execution": {
     "iopub.execute_input": "2021-10-22T11:23:12.290193Z",
     "iopub.status.busy": "2021-10-22T11:23:12.289205Z",
     "iopub.status.idle": "2021-10-22T11:23:12.296623Z",
     "shell.execute_reply": "2021-10-22T11:23:12.297235Z",
     "shell.execute_reply.started": "2021-10-18T16:45:37.436438Z"
    },
    "papermill": {
     "duration": 0.050032,
     "end_time": "2021-10-22T11:23:12.297408",
     "exception": false,
     "start_time": "2021-10-22T11:23:12.247376",
     "status": "completed"
    },
    "tags": []
   },
   "outputs": [
    {
     "data": {
      "text/plain": [
       "exng       -0.436757\n",
       "oldpeak    -0.430696\n",
       "caa        -0.391724\n",
       "thall      -0.344029\n",
       "sex        -0.280937\n",
       "age        -0.225439\n",
       "trtbps     -0.144931\n",
       "chol       -0.085239\n",
       "fbs        -0.028046\n",
       "restecg     0.137230\n",
       "slp         0.345877\n",
       "thalachh    0.421741\n",
       "cp          0.433798\n",
       "output      1.000000\n",
       "Name: output, dtype: float64"
      ]
     },
     "execution_count": 7,
     "metadata": {},
     "output_type": "execute_result"
    }
   ],
   "source": [
    "# Correlations between target and other columns\n",
    "corr_matrix['output'].sort_values()"
   ]
  },
  {
   "cell_type": "markdown",
   "id": "0e811a84",
   "metadata": {
    "papermill": {
     "duration": 0.038751,
     "end_time": "2021-10-22T11:23:12.375397",
     "exception": false,
     "start_time": "2021-10-22T11:23:12.336646",
     "status": "completed"
    },
    "tags": []
   },
   "source": [
    "# Creating test and training data, standarisation"
   ]
  },
  {
   "cell_type": "code",
   "execution_count": 8,
   "id": "704fec71",
   "metadata": {
    "execution": {
     "iopub.execute_input": "2021-10-22T11:23:12.457458Z",
     "iopub.status.busy": "2021-10-22T11:23:12.456505Z",
     "iopub.status.idle": "2021-10-22T11:23:12.621051Z",
     "shell.execute_reply": "2021-10-22T11:23:12.621566Z",
     "shell.execute_reply.started": "2021-10-18T16:45:37.444987Z"
    },
    "papermill": {
     "duration": 0.207295,
     "end_time": "2021-10-22T11:23:12.621757",
     "exception": false,
     "start_time": "2021-10-22T11:23:12.414462",
     "status": "completed"
    },
    "tags": []
   },
   "outputs": [],
   "source": [
    "# Separating target column and create train and test sets.\n",
    "col_names = ['age', 'sex', 'cp', 'trtbps', 'chol', 'fbs', 'restecg', 'thalachh',\n",
    "       'exng', 'oldpeak', 'slp', 'caa', 'thall']\n",
    "X = data[col_names]\n",
    "y = data['output']\n",
    "from sklearn.model_selection import train_test_split\n",
    "X_train, X_test, y_train, y_test = train_test_split(X, y, test_size = 0.25, random_state = 42)"
   ]
  },
  {
   "cell_type": "code",
   "execution_count": 9,
   "id": "4d320c5f",
   "metadata": {
    "execution": {
     "iopub.execute_input": "2021-10-22T11:23:12.704919Z",
     "iopub.status.busy": "2021-10-22T11:23:12.703948Z",
     "iopub.status.idle": "2021-10-22T11:23:12.716315Z",
     "shell.execute_reply": "2021-10-22T11:23:12.716853Z",
     "shell.execute_reply.started": "2021-10-18T16:45:37.648056Z"
    },
    "papermill": {
     "duration": 0.055975,
     "end_time": "2021-10-22T11:23:12.717037",
     "exception": false,
     "start_time": "2021-10-22T11:23:12.661062",
     "status": "completed"
    },
    "tags": []
   },
   "outputs": [],
   "source": [
    "# Normalization of data\n",
    "from sklearn import preprocessing\n",
    "sca = preprocessing.StandardScaler()\n",
    "X_train = pd.DataFrame(sca.fit_transform(X_train),columns = col_names)\n",
    "X_test = pd.DataFrame(sca.fit_transform(X_test),columns = col_names)"
   ]
  },
  {
   "cell_type": "markdown",
   "id": "80cf6c71",
   "metadata": {
    "papermill": {
     "duration": 0.03927,
     "end_time": "2021-10-22T11:23:12.796492",
     "exception": false,
     "start_time": "2021-10-22T11:23:12.757222",
     "status": "completed"
    },
    "tags": []
   },
   "source": [
    "# Measure metrics"
   ]
  },
  {
   "cell_type": "markdown",
   "id": "83a0387c",
   "metadata": {
    "papermill": {
     "duration": 0.039043,
     "end_time": "2021-10-22T11:23:12.874653",
     "exception": false,
     "start_time": "2021-10-22T11:23:12.835610",
     "status": "completed"
    },
    "tags": []
   },
   "source": [
    "For measure metrics I choose area under the curve and recall, AUC for comparing models, recall because false negative in Hearth Attack risk categorisation would be fatal."
   ]
  },
  {
   "cell_type": "code",
   "execution_count": 10,
   "id": "cb4d5fb1",
   "metadata": {
    "execution": {
     "iopub.execute_input": "2021-10-22T11:23:12.958178Z",
     "iopub.status.busy": "2021-10-22T11:23:12.957491Z",
     "iopub.status.idle": "2021-10-22T11:23:12.967042Z",
     "shell.execute_reply": "2021-10-22T11:23:12.967580Z",
     "shell.execute_reply.started": "2021-10-18T16:45:37.6668Z"
    },
    "papermill": {
     "duration": 0.053157,
     "end_time": "2021-10-22T11:23:12.967750",
     "exception": false,
     "start_time": "2021-10-22T11:23:12.914593",
     "status": "completed"
    },
    "tags": []
   },
   "outputs": [],
   "source": [
    "from sklearn.model_selection import cross_val_score\n",
    "# Function to print data scores of model\n",
    "def print_scores (model):\n",
    "    if str(type(model)) == \"<class 'sklearn.model_selection._search.GridSearchCV'>\":\n",
    "        roc = cross_val_score(model.best_estimator_, X_train, y_train, cv=7, scoring ='roc_auc')\n",
    "        recall = cross_val_score(model.best_estimator_, X_train, y_train, cv=7, scoring ='recall')\n",
    "        print (model.estimator)\n",
    "    else:\n",
    "        print(model)\n",
    "        roc = cross_val_score(model, X_train, y_train, cv=7, scoring ='roc_auc')\n",
    "        recall = cross_val_score(model, X_train, y_train, cv=7, scoring ='recall') \n",
    "    print (\"Scores on training data:\")\n",
    "    print (\"ROC AUC : {}\".format(roc.mean()))\n",
    "    print (\"Recall : {}\".format(recall.mean()))\n",
    "# Function to print test scores of model\n",
    "from sklearn import metrics\n",
    "def print_final_scores (model):\n",
    "    if str(type(model)) == \"<class 'sklearn.model_selection._search.GridSearchCV'>\":\n",
    "        final_predictions = model.best_estimator_.predict(X_test)\n",
    "        print (model.estimator)\n",
    "    else: \n",
    "        final_predictions = model.predict(X_test)\n",
    "    roc = metrics.roc_auc_score(final_predictions, y_test)\n",
    "    recall = metrics.recall_score(final_predictions, y_test)\n",
    "    print (\"Scores on test data:\")\n",
    "    print (\"ROC AUC : {}\".format(roc))\n",
    "    print (\"Recall : {}\".format(recall))"
   ]
  },
  {
   "cell_type": "markdown",
   "id": "6b933b69",
   "metadata": {
    "papermill": {
     "duration": 0.039319,
     "end_time": "2021-10-22T11:23:13.048099",
     "exception": false,
     "start_time": "2021-10-22T11:23:13.008780",
     "status": "completed"
    },
    "tags": []
   },
   "source": [
    "# Random Forest"
   ]
  },
  {
   "cell_type": "markdown",
   "id": "7fdd8813",
   "metadata": {
    "papermill": {
     "duration": 0.03928,
     "end_time": "2021-10-22T11:23:13.126803",
     "exception": false,
     "start_time": "2021-10-22T11:23:13.087523",
     "status": "completed"
    },
    "tags": []
   },
   "source": [
    "Because the dataset is relatively small i will use param grid for every model to find optimal parameters and cross-validate to avoid overfitting."
   ]
  },
  {
   "cell_type": "code",
   "execution_count": 11,
   "id": "d05b11dd",
   "metadata": {
    "execution": {
     "iopub.execute_input": "2021-10-22T11:23:13.208356Z",
     "iopub.status.busy": "2021-10-22T11:23:13.207554Z",
     "iopub.status.idle": "2021-10-22T11:23:48.829619Z",
     "shell.execute_reply": "2021-10-22T11:23:48.830171Z",
     "shell.execute_reply.started": "2021-10-18T16:45:37.682051Z"
    },
    "papermill": {
     "duration": 35.664366,
     "end_time": "2021-10-22T11:23:48.830343",
     "exception": false,
     "start_time": "2021-10-22T11:23:13.165977",
     "status": "completed"
    },
    "tags": []
   },
   "outputs": [
    {
     "data": {
      "text/plain": [
       "GridSearchCV(cv=7, estimator=RandomForestClassifier(),\n",
       "             param_grid=[{'bootstrap': [True, False],\n",
       "                          'class_weight': [None, 'balanced'],\n",
       "                          'max_features': [5, 6, 7, 8, 10, None]}],\n",
       "             return_train_score=True, scoring='roc_auc')"
      ]
     },
     "execution_count": 11,
     "metadata": {},
     "output_type": "execute_result"
    }
   ],
   "source": [
    "from sklearn.ensemble import RandomForestClassifier\n",
    "from sklearn.model_selection import GridSearchCV\n",
    "\n",
    "param_grid = [\n",
    "    {'class_weight': [None, 'balanced'], \n",
    "     'max_features': [5, 6, 7, 8, 10, None], 'bootstrap': [True, False]}]\n",
    "\n",
    "rnd_clf = RandomForestClassifier(n_estimators = 100)\n",
    "rnd_clf_grid = GridSearchCV(rnd_clf, param_grid, cv=7, scoring = 'roc_auc', return_train_score=True)\n",
    "rnd_clf_grid.fit(X_train, y_train)"
   ]
  },
  {
   "cell_type": "code",
   "execution_count": 12,
   "id": "56bb32ea",
   "metadata": {
    "execution": {
     "iopub.execute_input": "2021-10-22T11:23:48.915130Z",
     "iopub.status.busy": "2021-10-22T11:23:48.914515Z",
     "iopub.status.idle": "2021-10-22T11:23:48.918551Z",
     "shell.execute_reply": "2021-10-22T11:23:48.919104Z",
     "shell.execute_reply.started": "2021-10-18T16:46:05.701716Z"
    },
    "papermill": {
     "duration": 0.048636,
     "end_time": "2021-10-22T11:23:48.919283",
     "exception": false,
     "start_time": "2021-10-22T11:23:48.870647",
     "status": "completed"
    },
    "tags": []
   },
   "outputs": [
    {
     "data": {
      "text/plain": [
       "{'bootstrap': True, 'class_weight': 'balanced', 'max_features': 5}"
      ]
     },
     "execution_count": 12,
     "metadata": {},
     "output_type": "execute_result"
    }
   ],
   "source": [
    "rnd_clf_grid.best_params_"
   ]
  },
  {
   "cell_type": "code",
   "execution_count": 13,
   "id": "c23d0bbf",
   "metadata": {
    "execution": {
     "iopub.execute_input": "2021-10-22T11:23:49.002221Z",
     "iopub.status.busy": "2021-10-22T11:23:49.001591Z",
     "iopub.status.idle": "2021-10-22T11:23:51.916614Z",
     "shell.execute_reply": "2021-10-22T11:23:51.917086Z",
     "shell.execute_reply.started": "2021-10-18T16:46:05.709309Z"
    },
    "papermill": {
     "duration": 2.958166,
     "end_time": "2021-10-22T11:23:51.917279",
     "exception": false,
     "start_time": "2021-10-22T11:23:48.959113",
     "status": "completed"
    },
    "tags": []
   },
   "outputs": [
    {
     "name": "stdout",
     "output_type": "stream",
     "text": [
      "RandomForestClassifier()\n",
      "Scores on training data:\n",
      "ROC AUC : 0.8975145613801077\n",
      "Recall : 0.830532212885154\n"
     ]
    }
   ],
   "source": [
    "print_scores (rnd_clf_grid)"
   ]
  },
  {
   "cell_type": "code",
   "execution_count": 14,
   "id": "40a7f940",
   "metadata": {
    "execution": {
     "iopub.execute_input": "2021-10-22T11:23:52.009005Z",
     "iopub.status.busy": "2021-10-22T11:23:52.007988Z",
     "iopub.status.idle": "2021-10-22T11:23:52.024893Z",
     "shell.execute_reply": "2021-10-22T11:23:52.025615Z",
     "shell.execute_reply.started": "2021-10-18T16:46:07.905634Z"
    },
    "papermill": {
     "duration": 0.06671,
     "end_time": "2021-10-22T11:23:52.025843",
     "exception": false,
     "start_time": "2021-10-22T11:23:51.959133",
     "status": "completed"
    },
    "tags": []
   },
   "outputs": [
    {
     "name": "stdout",
     "output_type": "stream",
     "text": [
      "RandomForestClassifier()\n",
      "Scores on test data:\n",
      "ROC AUC : 0.8039772727272727\n",
      "Recall : 0.7954545454545454\n"
     ]
    }
   ],
   "source": [
    "print_final_scores(rnd_clf_grid)"
   ]
  },
  {
   "cell_type": "markdown",
   "id": "7513d61b",
   "metadata": {
    "papermill": {
     "duration": 0.040187,
     "end_time": "2021-10-22T11:23:52.107712",
     "exception": false,
     "start_time": "2021-10-22T11:23:52.067525",
     "status": "completed"
    },
    "tags": []
   },
   "source": [
    "There is 9 percent disrepency between training data and test data suggesting overfitting, setting min_samples_leaf = 50 for a better generalisation."
   ]
  },
  {
   "cell_type": "code",
   "execution_count": 15,
   "id": "3d21806b",
   "metadata": {
    "execution": {
     "iopub.execute_input": "2021-10-22T11:23:52.192781Z",
     "iopub.status.busy": "2021-10-22T11:23:52.191811Z",
     "iopub.status.idle": "2021-10-22T11:23:52.556275Z",
     "shell.execute_reply": "2021-10-22T11:23:52.556734Z",
     "shell.execute_reply.started": "2021-10-18T16:46:07.928538Z"
    },
    "papermill": {
     "duration": 0.408408,
     "end_time": "2021-10-22T11:23:52.556907",
     "exception": false,
     "start_time": "2021-10-22T11:23:52.148499",
     "status": "completed"
    },
    "tags": []
   },
   "outputs": [
    {
     "data": {
      "text/plain": [
       "RandomForestClassifier(class_weight='balanced', max_features=5,\n",
       "                       min_samples_leaf=50, n_estimators=200)"
      ]
     },
     "execution_count": 15,
     "metadata": {},
     "output_type": "execute_result"
    }
   ],
   "source": [
    "rnd_clf = RandomForestClassifier(n_estimators = 200, **rnd_clf_grid.best_params_, min_samples_leaf =50)\n",
    "rnd_clf.fit(X_train, y_train)"
   ]
  },
  {
   "cell_type": "code",
   "execution_count": 16,
   "id": "bbffe24a",
   "metadata": {
    "execution": {
     "iopub.execute_input": "2021-10-22T11:23:52.648116Z",
     "iopub.status.busy": "2021-10-22T11:23:52.644729Z",
     "iopub.status.idle": "2021-10-22T11:23:57.924034Z",
     "shell.execute_reply": "2021-10-22T11:23:57.924651Z",
     "shell.execute_reply.started": "2021-10-18T16:46:08.206643Z"
    },
    "papermill": {
     "duration": 5.326581,
     "end_time": "2021-10-22T11:23:57.924827",
     "exception": false,
     "start_time": "2021-10-22T11:23:52.598246",
     "status": "completed"
    },
    "tags": []
   },
   "outputs": [
    {
     "name": "stdout",
     "output_type": "stream",
     "text": [
      "RandomForestClassifier(class_weight='balanced', max_features=5,\n",
      "                       min_samples_leaf=50, n_estimators=200)\n",
      "Scores on training data:\n",
      "ROC AUC : 0.8768796407451871\n",
      "Recall : 0.830532212885154\n"
     ]
    }
   ],
   "source": [
    "print_scores (rnd_clf)"
   ]
  },
  {
   "cell_type": "code",
   "execution_count": 17,
   "id": "87fc9ece",
   "metadata": {
    "execution": {
     "iopub.execute_input": "2021-10-22T11:23:58.014694Z",
     "iopub.status.busy": "2021-10-22T11:23:58.013983Z",
     "iopub.status.idle": "2021-10-22T11:23:58.037814Z",
     "shell.execute_reply": "2021-10-22T11:23:58.038310Z",
     "shell.execute_reply.started": "2021-10-18T16:46:12.09659Z"
    },
    "papermill": {
     "duration": 0.071696,
     "end_time": "2021-10-22T11:23:58.038487",
     "exception": false,
     "start_time": "2021-10-22T11:23:57.966791",
     "status": "completed"
    },
    "tags": []
   },
   "outputs": [
    {
     "name": "stdout",
     "output_type": "stream",
     "text": [
      "Scores on test data:\n",
      "ROC AUC : 0.8696264975334742\n",
      "Recall : 0.8604651162790697\n"
     ]
    }
   ],
   "source": [
    "print_final_scores (rnd_clf)"
   ]
  },
  {
   "cell_type": "code",
   "execution_count": 18,
   "id": "df30e71d",
   "metadata": {
    "execution": {
     "iopub.execute_input": "2021-10-22T11:23:58.126459Z",
     "iopub.status.busy": "2021-10-22T11:23:58.125454Z",
     "iopub.status.idle": "2021-10-22T11:23:58.402088Z",
     "shell.execute_reply": "2021-10-22T11:23:58.401562Z",
     "shell.execute_reply.started": "2021-10-18T16:46:12.125867Z"
    },
    "papermill": {
     "duration": 0.32178,
     "end_time": "2021-10-22T11:23:58.402248",
     "exception": false,
     "start_time": "2021-10-22T11:23:58.080468",
     "status": "completed"
    },
    "tags": []
   },
   "outputs": [
    {
     "data": {
      "text/plain": [
       "<AxesSubplot:>"
      ]
     },
     "execution_count": 18,
     "metadata": {},
     "output_type": "execute_result"
    },
    {
     "data": {
      "image/png": "[encoded data removed]",
      "text/plain": [
       "<Figure size 432x288 with 1 Axes>"
      ]
     },
     "metadata": {
      "needs_background": "light"
     },
     "output_type": "display_data"
    }
   ],
   "source": [
    "# Let's check which features was most important for the model.\n",
    "feat_importances = pd.Series(rnd_clf.feature_importances_, index=X.columns)\n",
    "feat_importances.nlargest(13).plot(kind='barh')"
   ]
  },
  {
   "cell_type": "markdown",
   "id": "98f90255",
   "metadata": {
    "papermill": {
     "duration": 0.043056,
     "end_time": "2021-10-22T11:23:58.488086",
     "exception": false,
     "start_time": "2021-10-22T11:23:58.445030",
     "status": "completed"
    },
    "tags": []
   },
   "source": [
    "# KNeighbors"
   ]
  },
  {
   "cell_type": "code",
   "execution_count": 19,
   "id": "c7703f18",
   "metadata": {
    "execution": {
     "iopub.execute_input": "2021-10-22T11:23:58.581385Z",
     "iopub.status.busy": "2021-10-22T11:23:58.580652Z",
     "iopub.status.idle": "2021-10-22T11:24:02.062031Z",
     "shell.execute_reply": "2021-10-22T11:24:02.060958Z",
     "shell.execute_reply.started": "2021-10-18T16:46:12.399395Z"
    },
    "papermill": {
     "duration": 3.531375,
     "end_time": "2021-10-22T11:24:02.062214",
     "exception": false,
     "start_time": "2021-10-22T11:23:58.530839",
     "status": "completed"
    },
    "tags": []
   },
   "outputs": [
    {
     "data": {
      "text/plain": [
       "GridSearchCV(cv=7, estimator=KNeighborsClassifier(),\n",
       "             param_grid=[{'metric': ['minkowski', 'euclidean', 'manhattan'],\n",
       "                          'n_neighbors': [2, 3, 5, 7, 10, 12, 13, 14],\n",
       "                          'weights': ['uniform', 'distance']}],\n",
       "             return_train_score=True, scoring='roc_auc')"
      ]
     },
     "execution_count": 19,
     "metadata": {},
     "output_type": "execute_result"
    }
   ],
   "source": [
    "from sklearn.neighbors import KNeighborsClassifier\n",
    "param_grid = [ {'n_neighbors' : [2,3,5,7,10,12,13,14], 'metric' : ['minkowski', 'euclidean', 'manhattan'], \n",
    "                'weights':['uniform','distance']}]\n",
    "knc = KNeighborsClassifier()\n",
    "knc_grid = GridSearchCV(knc, param_grid, cv=7, scoring = 'roc_auc', return_train_score=True)\n",
    "knc_grid.fit(X_train, y_train)"
   ]
  },
  {
   "cell_type": "code",
   "execution_count": 20,
   "id": "dcc8f244",
   "metadata": {
    "execution": {
     "iopub.execute_input": "2021-10-22T11:24:02.157635Z",
     "iopub.status.busy": "2021-10-22T11:24:02.156889Z",
     "iopub.status.idle": "2021-10-22T11:24:02.160632Z",
     "shell.execute_reply": "2021-10-22T11:24:02.160033Z",
     "shell.execute_reply.started": "2021-10-18T16:46:15.69619Z"
    },
    "papermill": {
     "duration": 0.05373,
     "end_time": "2021-10-22T11:24:02.160782",
     "exception": false,
     "start_time": "2021-10-22T11:24:02.107052",
     "status": "completed"
    },
    "tags": []
   },
   "outputs": [
    {
     "data": {
      "text/plain": [
       "{'metric': 'manhattan', 'n_neighbors': 13, 'weights': 'distance'}"
      ]
     },
     "execution_count": 20,
     "metadata": {},
     "output_type": "execute_result"
    }
   ],
   "source": [
    "knc_grid.best_params_"
   ]
  },
  {
   "cell_type": "code",
   "execution_count": 21,
   "id": "56af80c0",
   "metadata": {
    "execution": {
     "iopub.execute_input": "2021-10-22T11:24:02.254416Z",
     "iopub.status.busy": "2021-10-22T11:24:02.253662Z",
     "iopub.status.idle": "2021-10-22T11:24:02.344859Z",
     "shell.execute_reply": "2021-10-22T11:24:02.345416Z",
     "shell.execute_reply.started": "2021-10-18T16:46:15.705235Z"
    },
    "papermill": {
     "duration": 0.140238,
     "end_time": "2021-10-22T11:24:02.345596",
     "exception": false,
     "start_time": "2021-10-22T11:24:02.205358",
     "status": "completed"
    },
    "scrolled": true,
    "tags": []
   },
   "outputs": [
    {
     "name": "stdout",
     "output_type": "stream",
     "text": [
      "KNeighborsClassifier()\n",
      "Scores on training data:\n",
      "ROC AUC : 0.911998132586368\n",
      "Recall : 0.8870214752567694\n"
     ]
    }
   ],
   "source": [
    "print_scores (knc_grid)"
   ]
  },
  {
   "cell_type": "code",
   "execution_count": 22,
   "id": "e416db16",
   "metadata": {
    "execution": {
     "iopub.execute_input": "2021-10-22T11:24:02.437061Z",
     "iopub.status.busy": "2021-10-22T11:24:02.436447Z",
     "iopub.status.idle": "2021-10-22T11:24:02.447075Z",
     "shell.execute_reply": "2021-10-22T11:24:02.447657Z",
     "shell.execute_reply.started": "2021-10-18T16:46:15.797116Z"
    },
    "papermill": {
     "duration": 0.058011,
     "end_time": "2021-10-22T11:24:02.447836",
     "exception": false,
     "start_time": "2021-10-22T11:24:02.389825",
     "status": "completed"
    },
    "scrolled": true,
    "tags": []
   },
   "outputs": [
    {
     "name": "stdout",
     "output_type": "stream",
     "text": [
      "KNeighborsClassifier()\n",
      "Scores on test data:\n",
      "ROC AUC : 0.8849431818181819\n",
      "Recall : 0.8636363636363636\n"
     ]
    }
   ],
   "source": [
    "print_final_scores(knc_grid)"
   ]
  },
  {
   "cell_type": "markdown",
   "id": "5a07aae5",
   "metadata": {
    "papermill": {
     "duration": 0.044114,
     "end_time": "2021-10-22T11:24:02.537108",
     "exception": false,
     "start_time": "2021-10-22T11:24:02.492994",
     "status": "completed"
    },
    "tags": []
   },
   "source": [
    "# SVC"
   ]
  },
  {
   "cell_type": "code",
   "execution_count": 23,
   "id": "91118229",
   "metadata": {
    "execution": {
     "iopub.execute_input": "2021-10-22T11:24:02.629946Z",
     "iopub.status.busy": "2021-10-22T11:24:02.629232Z",
     "iopub.status.idle": "2021-10-22T11:24:03.587371Z",
     "shell.execute_reply": "2021-10-22T11:24:03.587888Z",
     "shell.execute_reply.started": "2021-10-18T16:46:15.810179Z"
    },
    "papermill": {
     "duration": 1.006518,
     "end_time": "2021-10-22T11:24:03.588056",
     "exception": false,
     "start_time": "2021-10-22T11:24:02.581538",
     "status": "completed"
    },
    "tags": []
   },
   "outputs": [
    {
     "data": {
      "text/plain": [
       "GridSearchCV(cv=7, estimator=SVC(probability=True),\n",
       "             param_grid=[{'class_weight': [None, 'balanced'],\n",
       "                          'decision_function_shape': ['ovr', 'ovo'],\n",
       "                          'tol': [0.001, 0.002]}],\n",
       "             return_train_score=True, scoring='roc_auc')"
      ]
     },
     "execution_count": 23,
     "metadata": {},
     "output_type": "execute_result"
    }
   ],
   "source": [
    "from sklearn.svm import SVC\n",
    "param_grid = [ {'class_weight' : [None, 'balanced'], \n",
    "                'decision_function_shape':['ovr','ovo'], 'tol' : [0.001, 0.002]}]\n",
    "svc = SVC(probability = True)\n",
    "svc_grid = GridSearchCV(svc, param_grid, cv=7, scoring = 'roc_auc', return_train_score=True)\n",
    "svc_grid.fit(X_train, y_train)"
   ]
  },
  {
   "cell_type": "code",
   "execution_count": 24,
   "id": "fada4e5b",
   "metadata": {
    "execution": {
     "iopub.execute_input": "2021-10-22T11:24:03.680209Z",
     "iopub.status.busy": "2021-10-22T11:24:03.679601Z",
     "iopub.status.idle": "2021-10-22T11:24:03.684056Z",
     "shell.execute_reply": "2021-10-22T11:24:03.684643Z",
     "shell.execute_reply.started": "2021-10-18T16:46:16.748938Z"
    },
    "papermill": {
     "duration": 0.051817,
     "end_time": "2021-10-22T11:24:03.684808",
     "exception": false,
     "start_time": "2021-10-22T11:24:03.632991",
     "status": "completed"
    },
    "tags": []
   },
   "outputs": [
    {
     "data": {
      "text/plain": [
       "{'class_weight': 'balanced', 'decision_function_shape': 'ovr', 'tol': 0.001}"
      ]
     },
     "execution_count": 24,
     "metadata": {},
     "output_type": "execute_result"
    }
   ],
   "source": [
    "svc_grid.best_params_"
   ]
  },
  {
   "cell_type": "code",
   "execution_count": 25,
   "id": "19ca3af0",
   "metadata": {
    "execution": {
     "iopub.execute_input": "2021-10-22T11:24:03.779609Z",
     "iopub.status.busy": "2021-10-22T11:24:03.778905Z",
     "iopub.status.idle": "2021-10-22T11:24:03.977864Z",
     "shell.execute_reply": "2021-10-22T11:24:03.978384Z",
     "shell.execute_reply.started": "2021-10-18T16:46:16.756513Z"
    },
    "papermill": {
     "duration": 0.248797,
     "end_time": "2021-10-22T11:24:03.978565",
     "exception": false,
     "start_time": "2021-10-22T11:24:03.729768",
     "status": "completed"
    },
    "tags": []
   },
   "outputs": [
    {
     "name": "stdout",
     "output_type": "stream",
     "text": [
      "SVC(probability=True)\n",
      "Scores on training data:\n",
      "ROC AUC : 0.8808345560446401\n",
      "Recall : 0.7829131652661064\n"
     ]
    }
   ],
   "source": [
    "print_scores (svc_grid)"
   ]
  },
  {
   "cell_type": "code",
   "execution_count": 26,
   "id": "d499d66b",
   "metadata": {
    "execution": {
     "iopub.execute_input": "2021-10-22T11:24:04.076025Z",
     "iopub.status.busy": "2021-10-22T11:24:04.072671Z",
     "iopub.status.idle": "2021-10-22T11:24:04.082579Z",
     "shell.execute_reply": "2021-10-22T11:24:04.083191Z",
     "shell.execute_reply.started": "2021-10-18T16:46:16.955303Z"
    },
    "papermill": {
     "duration": 0.059092,
     "end_time": "2021-10-22T11:24:04.083367",
     "exception": false,
     "start_time": "2021-10-22T11:24:04.024275",
     "status": "completed"
    },
    "scrolled": true,
    "tags": []
   },
   "outputs": [
    {
     "name": "stdout",
     "output_type": "stream",
     "text": [
      "SVC(probability=True)\n",
      "Scores on test data:\n",
      "ROC AUC : 0.8816526610644257\n",
      "Recall : 0.8809523809523809\n"
     ]
    }
   ],
   "source": [
    "print_final_scores (svc_grid)"
   ]
  },
  {
   "cell_type": "markdown",
   "id": "870c4827",
   "metadata": {
    "papermill": {
     "duration": 0.045227,
     "end_time": "2021-10-22T11:24:04.174235",
     "exception": false,
     "start_time": "2021-10-22T11:24:04.129008",
     "status": "completed"
    },
    "tags": []
   },
   "source": [
    "All three classifier above was quite good achieving AUC value on test data around 0.88. I'll create Voting classifier which will combine all three models above."
   ]
  },
  {
   "cell_type": "markdown",
   "id": "97a93a7f",
   "metadata": {
    "papermill": {
     "duration": 0.046565,
     "end_time": "2021-10-22T11:24:04.266770",
     "exception": false,
     "start_time": "2021-10-22T11:24:04.220205",
     "status": "completed"
    },
    "tags": []
   },
   "source": [
    "# Voting Classifier"
   ]
  },
  {
   "cell_type": "code",
   "execution_count": 27,
   "id": "e3a7f37a",
   "metadata": {
    "execution": {
     "iopub.execute_input": "2021-10-22T11:24:04.362537Z",
     "iopub.status.busy": "2021-10-22T11:24:04.361879Z",
     "iopub.status.idle": "2021-10-22T11:24:04.751373Z",
     "shell.execute_reply": "2021-10-22T11:24:04.751840Z",
     "shell.execute_reply.started": "2021-10-18T16:46:16.96751Z"
    },
    "papermill": {
     "duration": 0.43813,
     "end_time": "2021-10-22T11:24:04.752012",
     "exception": false,
     "start_time": "2021-10-22T11:24:04.313882",
     "status": "completed"
    },
    "tags": []
   },
   "outputs": [
    {
     "data": {
      "text/plain": [
       "VotingClassifier(estimators=[('Random_forest',\n",
       "                              RandomForestClassifier(class_weight='balanced',\n",
       "                                                     max_features=5,\n",
       "                                                     min_samples_leaf=50,\n",
       "                                                     n_estimators=200)),\n",
       "                             ('KNeighbours',\n",
       "                              KNeighborsClassifier(metric='manhattan',\n",
       "                                                   n_neighbors=13,\n",
       "                                                   weights='distance')),\n",
       "                             ('SVC',\n",
       "                              SVC(class_weight='balanced', probability=True))],\n",
       "                 voting='soft')"
      ]
     },
     "execution_count": 27,
     "metadata": {},
     "output_type": "execute_result"
    }
   ],
   "source": [
    "from sklearn.ensemble import VotingClassifier\n",
    "voting_clf = VotingClassifier(\n",
    "estimators = [('Random_forest', rnd_clf), (\"KNeighbours\", knc_grid.best_estimator_), \n",
    "              (\"SVC\", svc_grid.best_estimator_)], voting = 'soft')\n",
    "voting_clf.fit(X_train, y_train)"
   ]
  },
  {
   "cell_type": "code",
   "execution_count": 28,
   "id": "2380a351",
   "metadata": {
    "execution": {
     "iopub.execute_input": "2021-10-22T11:24:04.848913Z",
     "iopub.status.busy": "2021-10-22T11:24:04.848269Z",
     "iopub.status.idle": "2021-10-22T11:24:10.444121Z",
     "shell.execute_reply": "2021-10-22T11:24:10.444873Z",
     "shell.execute_reply.started": "2021-10-18T16:46:17.255064Z"
    },
    "papermill": {
     "duration": 5.646223,
     "end_time": "2021-10-22T11:24:10.445129",
     "exception": false,
     "start_time": "2021-10-22T11:24:04.798906",
     "status": "completed"
    },
    "tags": []
   },
   "outputs": [
    {
     "name": "stdout",
     "output_type": "stream",
     "text": [
      "VotingClassifier(estimators=[('Random_forest',\n",
      "                              RandomForestClassifier(class_weight='balanced',\n",
      "                                                     max_features=5,\n",
      "                                                     min_samples_leaf=50,\n",
      "                                                     n_estimators=200)),\n",
      "                             ('KNeighbours',\n",
      "                              KNeighborsClassifier(metric='manhattan',\n",
      "                                                   n_neighbors=13,\n",
      "                                                   weights='distance')),\n",
      "                             ('SVC',\n",
      "                              SVC(class_weight='balanced', probability=True))],\n",
      "                 voting='soft')\n",
      "Scores on training data:\n",
      "ROC AUC : 0.9079164999333067\n",
      "Recall : 0.8706816059757239\n"
     ]
    }
   ],
   "source": [
    "print_scores (voting_clf)"
   ]
  },
  {
   "cell_type": "code",
   "execution_count": 29,
   "id": "8040376d",
   "metadata": {
    "execution": {
     "iopub.execute_input": "2021-10-22T11:24:10.550655Z",
     "iopub.status.busy": "2021-10-22T11:24:10.549920Z",
     "iopub.status.idle": "2021-10-22T11:24:10.578584Z",
     "shell.execute_reply": "2021-10-22T11:24:10.579370Z",
     "shell.execute_reply.started": "2021-10-18T16:46:21.328017Z"
    },
    "papermill": {
     "duration": 0.085688,
     "end_time": "2021-10-22T11:24:10.579609",
     "exception": false,
     "start_time": "2021-10-22T11:24:10.493921",
     "status": "completed"
    },
    "tags": []
   },
   "outputs": [
    {
     "name": "stdout",
     "output_type": "stream",
     "text": [
      "Scores on test data:\n",
      "ROC AUC : 0.8849431818181819\n",
      "Recall : 0.8636363636363636\n"
     ]
    }
   ],
   "source": [
    "print_final_scores(voting_clf)"
   ]
  },
  {
   "cell_type": "markdown",
   "id": "3c58cf3b",
   "metadata": {
    "papermill": {
     "duration": 0.046867,
     "end_time": "2021-10-22T11:24:10.674304",
     "exception": false,
     "start_time": "2021-10-22T11:24:10.627437",
     "status": "completed"
    },
    "tags": []
   },
   "source": [
    "Voting classifier achieve scores exactly like KNeighbours suggesting that this classifier was the best predictor for every data point in this data set."
   ]
  },
  {
   "cell_type": "code",
   "execution_count": null,
   "id": "f87fe292",
   "metadata": {
    "papermill": {
     "duration": 0.046368,
     "end_time": "2021-10-22T11:24:10.767999",
     "exception": false,
     "start_time": "2021-10-22T11:24:10.721631",
     "status": "completed"
    },
    "tags": []
   },
   "outputs": [],
   "source": []
  }
 ],
 "metadata": {
  "kernelspec": {
   "display_name": "Python 3",
   "language": "python",
   "name": "python3"
  },
  "language_info": {
   "codemirror_mode": {
    "name": "ipython",
    "version": 3
   },
   "file_extension": ".py",
   "mimetype": "text/x-python",
   "name": "python",
   "nbconvert_exporter": "python",
   "pygments_lexer": "ipython3",
   "version": "3.7.10"
  },
  "papermill": {
   "default_parameters": {},
   "duration": 75.778938,
   "end_time": "2021-10-22T11:24:12.500558",
   "environment_variables": {},
   "exception": null,
   "input_path": "__notebook__.ipynb",
   "output_path": "__notebook__.ipynb",
   "parameters": {},
   "start_time": "2021-10-22T11:22:56.721620",
   "version": "2.3.3"
  }
 },
 "nbformat": 4,
 "nbformat_minor": 5
}
